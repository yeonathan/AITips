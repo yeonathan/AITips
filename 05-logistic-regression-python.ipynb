{
 "cells": [
  {
   "cell_type": "markdown",
   "metadata": {
    "collapsed": true
   },
   "source": [
    "Exercise 5 - Logistic Regression\n",
    "=====\n",
    "\n",
    "Logistic regression predicts binary (yes/no) events. For example, we may want to predict if someone will arrive at work on time, or if a person shopping will buy a product. \n",
    "\n",
    "This exercise will demonstrate simple logistic regression: predicting an outcome from only one feature.\n",
    "\n",
    "Step 1\n",
    "-----\n",
    "\n",
    "We want to place a bet on the outcome of the next football (soccer) match. It is the final of a competition, so there will not be a draw. We have historical data about our favourite team playing in matches such as this. Complete the exercise below to preview our data.\n",
    "\n",
    "### In the cell below replace:\n",
    "#### 1. `<addFilePath>` with `'Data/football data.txt' ` (including the quotation marks)\n",
    "#### 2. `<printDataHere>` with `print(dataset.head())`\n",
    "\n",
    "#### and then __run the code__."
   ]
  },
  {
   "cell_type": "code",
   "execution_count": 1,
   "metadata": {},
   "outputs": [
    {
     "name": "stdout",
     "output_type": "stream",
     "text": [
      "   average_goals_per_match  won_competition\n",
      "0                 2.422870                1\n",
      "1                 2.824478                1\n",
      "2                 0.571688                0\n",
      "3                 1.055028                0\n",
      "4                 0.394192                0\n"
     ]
    }
   ],
   "source": [
    "# This part sets up the graphing configuration\n",
    "import warnings\n",
    "warnings.filterwarnings(\"ignore\")\n",
    "import matplotlib.pyplot as graph\n",
    "%matplotlib inline\n",
    "graph.rcParams['figure.figsize'] = (15,5)\n",
    "graph.rcParams[\"font.family\"] = 'DejaVu Sans'\n",
    "graph.rcParams[\"font.size\"] = '12'\n",
    "graph.rcParams['image.cmap'] = 'rainbow'\n",
    "import pandas as pd\n",
    "\n",
    "\n",
    "###\n",
    "# REPLACE <addFilePath> BELOW WITH 'Data/football data.txt' (INCLUDING THE QUOTES) TO LOAD THE DATA FROM THAT FILE\n",
    "###\n",
    "dataset = pd.read_csv('Data/football data.txt', index_col = False, sep = '\\t', header = 0)\n",
    "###\n",
    "\n",
    "###\n",
    "# REPLACE <printDataHere> BELOW WITH print(dataset.head()) TO PREVIEW OUR DATASET\n",
    "###\n",
    "print(dataset.head())\n",
    "###"
   ]
  },
  {
   "cell_type": "markdown",
   "metadata": {},
   "source": [
    "This data shows the average goals per match of our team for that season in the left column. In the right column it lists a 1 if our team won the competition or a 0 if they did not.\n",
    "\n",
    "Step 2\n",
    "----\n",
    "\n",
    "Let's graph the data so we have a better idea of what's going on here. Complete the exercise below to make an x-y scatter plot.\n",
    "\n",
    "### In the cell below replace:\n",
    "#### 1. `<addWonCompetition>` with `'won_competition'`\n",
    "#### 2. `<addAverageGoals>` with `'average_goals_per_match'`\n",
    "#### then __run the code__."
   ]
  },
  {
   "cell_type": "code",
   "execution_count": 2,
   "metadata": {},
   "outputs": [
    {
     "data": {
      "image/png": "[encoded data removed]",
      "text/plain": [
       "<Figure size 432x288 with 1 Axes>"
      ]
     },
     "metadata": {
      "needs_background": "light"
     },
     "output_type": "display_data"
    }
   ],
   "source": [
    "###\n",
    "# REPLACE <addWonCompetition> BELOW WITH 'won_competition' (INCLUDING THE QUOTES)\n",
    "###\n",
    "train_Y = dataset['won_competition']\n",
    "###\n",
    "\n",
    "###\n",
    "# REPLACE <addAverageGoals> BELOW WITH 'average_goals_per_match' (INCLUDING THE QUOTES)\n",
    "###\n",
    "train_X = dataset['average_goals_per_match']\n",
    "###\n",
    "\n",
    "# The 'won_competition' will be displayed on the vertical axis (y axis)\n",
    "# The 'average_goals_per_match' will be displayed on the horizontal axis (x axis)\n",
    "\n",
    "graph.scatter(train_X, train_Y, c = train_Y, marker = 'D')\n",
    "\n",
    "graph.yticks([0, 1], ['No', 'Yes'])\n",
    "graph.ylabel(\"Competition Win\")\n",
    "graph.ylim([-0.5, 1.5])\n",
    "graph.xlabel(\"Average number of goals scored per match\")\n",
    "\n",
    "graph.show()"
   ]
  },
  {
   "cell_type": "markdown",
   "metadata": {},
   "source": [
    "We can see from this graph that generally, when our team has a good score average, they tend to win the competition.\n",
    "\n",
    "Step 3\n",
    "----\n",
    "\n",
    "How can we predict whether the team will win this season? Let's apply AI to this problem, by making a logisitic regression model using this data and then graph it. This will tell us whether we will likely win this season.\n",
    "\n",
    "#### Below replace `<buildLinearRegression>` with `linear_model.LogisticRegression()` and then __run the code__."
   ]
  },
  {
   "cell_type": "code",
   "execution_count": 13,
   "metadata": {},
   "outputs": [],
   "source": [
    "import numpy as np\n",
    "from sklearn import linear_model\n",
    "\n",
    "# Here we build a logistic regression model\n",
    "\n",
    "###\n",
    "# REPLACE <buildLinearRegression> BELOW WITH linear_model.LogisticRegression() TO BUILD A LOGISTIC REGRESSION MODEL\n",
    "###\n",
    "clf = linear_model.LogisticRegression()\n",
    "###\n",
    "\n",
    "# This step fits (calculates) the model\n",
    "# We are using our feature (x - number of goals scored) and our outcome/label (y - won/lost)\n",
    "clf.fit(train_X[:, np.newaxis], train_Y)\n",
    "\n",
    "# This works out the loss\n",
    "def sigmoid(train_X):\n",
    "    return 1 / (1 + np.exp(-train_X))\n",
    "X_test = np.linspace(0, 3, 300)\n",
    "loss = sigmoid(X_test * clf.coef_ + clf.intercept_).ravel()"
   ]
  },
  {
   "cell_type": "markdown",
   "metadata": {},
   "source": [
    "Alright, that's the model done. Now __run the code__ below to graph it."
   ]
  },
  {
   "cell_type": "code",
   "execution_count": 14,
   "metadata": {},
   "outputs": [
    {
     "data": {
      "image/png": "[encoded data removed]",
      "text/plain": [
       "<Figure size 432x288 with 1 Axes>"
      ]
     },
     "metadata": {
      "needs_background": "light"
     },
     "output_type": "display_data"
    }
   ],
   "source": [
    "# This makes the graph\n",
    "# The data points\n",
    "graph.scatter(train_X, train_Y, c = train_Y, marker = 'D')\n",
    "# The curve\n",
    "graph.plot(X_test, loss, color = 'gold', linewidth = 3)\n",
    "# Define the y-axis\n",
    "graph.yticks([0, 1], ['No = 0.0', 'Yes = 1.0'])\n",
    "graph.ylabel(\"Competition Win Likelihood\")\n",
    "graph.xlabel(\"Average number of goals per match\")\n",
    "graph.show()"
   ]
  },
  {
   "cell_type": "markdown",
   "metadata": {},
   "source": [
    "We now have a line fit to our data. This yellow line is our logistic regression model.\n",
    "\n",
    "Step 4\n",
    "------\n",
    "\n",
    "We can read the model above like so:\n",
    "* Take the average number of goals per match for the current year. Let's say it is 2.5.\n",
    "* Find 2.5 on the x-axis. \n",
    "* What value (on the y axis) does the line have at x=2.5?\n",
    "* If this value is above 0.5, then the model thinks our team will win this year. If it is less than 0.5, it thinks our team will lose.\n",
    "\n",
    "Because this line is just a mathematical function (equation) we don't have to do this visually.\n",
    "\n",
    "In the exercise below, __choose the number of goals you want to evaluate__.\n",
    "\n",
    "The code will calculate the probability that our team will win with your chosen number of goals in the match.\n",
    "\n",
    "### In the cell below replace:\n",
    "#### 1. `<numberOfGoals>` with the number of goals in a year (any number from 0 to 3)\n",
    "#### 2. `<replaceWithP>` with `p`\n",
    "#### then __run the code__."
   ]
  },
  {
   "cell_type": "code",
   "execution_count": 15,
   "metadata": {},
   "outputs": [
    {
     "name": "stdout",
     "output_type": "stream",
     "text": [
      "Probability of winning this year\n",
      "82.426460467573%\n"
     ]
    },
    {
     "data": {
      "image/png": "[encoded data removed]",
      "text/plain": [
       "<Figure size 432x288 with 1 Axes>"
      ]
     },
     "metadata": {
      "needs_background": "light"
     },
     "output_type": "display_data"
    }
   ],
   "source": [
    "###\n",
    "# REPLACE <numberOfGoals> BELOW WITH THE NUMBER OF GOALS IN A MATCH THIS YEAR. USE ANY NUMBER FROM 0 TO 3\n",
    "###\n",
    "p = 3\n",
    "###\n",
    "\n",
    "# Next we're going to use our model again - clf is the name of our model.\n",
    "# We'll use a method to predict the probability of a positive result\n",
    "# Use the variable p which we just made in this method.\n",
    "\n",
    "###\n",
    "# REPLACE <replaceWithP> BELOW WITH p TO PREDICT USING THIS VALUE\n",
    "###\n",
    "probOfWinning = clf.predict_proba([[ p]])[0][1]\n",
    "###\n",
    "\n",
    "# This prints out the result\n",
    "print(\"Probability of winning this year\")\n",
    "print(str(probOfWinning * 100) + \"%\")\n",
    "\n",
    "# This plots the result\n",
    "graph.scatter(train_X, train_Y, c = train_Y, marker = 'D')\n",
    "graph.yticks([0, probOfWinning, 1], ['No = 0.0', round(probOfWinning,3), 'Yes = 1.0'])\n",
    "graph.plot(X_test, loss, color = 'gold', linewidth = 3)\n",
    "\n",
    "graph.plot(p, probOfWinning, 'ko') # result point\n",
    "graph.plot(np.linspace(0, p, 2), np.full([2],probOfWinning), dashes = [6, 3], color = 'black') # dashed lines (to y-axis)\n",
    "graph.plot(np.full([2],p), np.linspace(0, probOfWinning, 2), dashes = [6, 3], color = 'black') # dashed lines (to x-axis)\n",
    "\n",
    "graph.ylabel(\"Competition Win Likelihood\")\n",
    "graph.xlabel(\"Average number of goals per match\")\n",
    "graph.show()"
   ]
  },
  {
   "cell_type": "markdown",
   "metadata": {},
   "source": [
    "Conclusion\n",
    "-----\n",
    "\n",
    "Well done! We have calculated the likelihood that our team will win this year's competition.\n",
    "\n",
    "You can go back to the course now and click __'Next Step'__ "
   ]
  },
  {
   "cell_type": "markdown",
   "metadata": {},
   "source": [
    "Optional: Step 5\n",
    "-----\n",
    "\n",
    "Of course, these predictions are only one model.\n",
    "\n",
    "Let's return to what we did in step 3, but we'll replace `linear_model.LogisticRegression()` with `linear_model.LogisticRegression(C=200)`. This will tell the model to make a steeper decision boundary. Then repeat Step 4 with this boundary. Did your results change?\n",
    "\n",
    "There are methods we can use to choose sensible parameters for many models. This is currently outside the scope of this course, but it is important to remember that a model is only as good as the data we give it, the parameters we choose, and the assumptions we make.\n",
    "\n",
    "#### Follow the instructions in the cell below to replace `<numberOfGoals>` and `<buildLinearRegression>` and __run the code__."
   ]
  },
  {
   "cell_type": "code",
   "execution_count": 12,
   "metadata": {},
   "outputs": [
    {
     "name": "stdout",
     "output_type": "stream",
     "text": [
      "Probability of winning this year\n",
      "99.9815071251471%\n"
     ]
    },
    {
     "data": {
      "image/png": "[encoded data removed]",
      "text/plain": [
       "<Figure size 432x288 with 1 Axes>"
      ]
     },
     "metadata": {
      "needs_background": "light"
     },
     "output_type": "display_data"
    }
   ],
   "source": [
    "# Let's do that again.\n",
    "# We will repeat what we did in step 3, but change the decision boundary.\n",
    "\n",
    "import numpy as np\n",
    "from sklearn import linear_model\n",
    "\n",
    "###\n",
    "# REPLACE THE <numberOfGoals> WITH THE NUMBER OF GOALS YOU WANT TO EVALUATE\n",
    "###\n",
    "p = 3\n",
    "###\n",
    "\n",
    "# Here we build the new logistic regression model.\n",
    "# The C=200 is where we change the decision boundary.\n",
    "###\n",
    "# REPLACE <buildLinearRegression> BELOW WITH linear_model.LogisticRegression(C=200) TO BUILD A LOGISTIC REGRESSION MODEL\n",
    "###\n",
    "clf = linear_model.LogisticRegression(C=200)\n",
    "###\n",
    "\n",
    "# This step fits (calculates) the model\n",
    "# We are using our feature (x - number of goals scored) and our outcome/label (y - won/lost)\n",
    "clf.fit(train_X[:, np.newaxis], train_Y)\n",
    "\n",
    "# This works out the loss\n",
    "def sigmoid(train_X):\n",
    "    return 1 / (1 + np.exp(-train_X))\n",
    "X_test = np.linspace(0, 3, 300)\n",
    "loss = sigmoid(X_test * clf.coef_ + clf.intercept_).ravel()\n",
    "\n",
    "# This makes the prediction for your chosen number of goals.\n",
    "probOfWinning = clf.predict_proba([[p]])[0][1]\n",
    "\n",
    "# This prints out the result.\n",
    "print(\"Probability of winning this year\")\n",
    "print(str(probOfWinning * 100) + \"%\")\n",
    "\n",
    "# This plots the result.\n",
    "graph.scatter(train_X, train_Y, c = train_Y, marker = 'D')\n",
    "graph.yticks([0, probOfWinning, 1], ['No = 0.0', round(probOfWinning,3), 'Yes = 1.0'])\n",
    "graph.plot(X_test, loss, color = 'gold', linewidth = 3)\n",
    "\n",
    "graph.plot(p, probOfWinning, 'ko') # result point\n",
    "graph.plot(np.linspace(0, p, 2), np.full([2],probOfWinning), dashes = [6, 3], color = 'black') # dashed lines (to y-axis)\n",
    "graph.plot(np.full([2],p), np.linspace(0, probOfWinning, 2), dashes = [6, 3], color = 'black') # dashed lines (to x-axis)\n",
    "\n",
    "graph.ylabel(\"Competition Win Likelihood\")\n",
    "graph.xlabel(\"Average number of goals per match\")\n",
    "graph.show()"
   ]
  },
  {
   "cell_type": "code",
   "execution_count": null,
   "metadata": {},
   "outputs": [],
   "source": []
  }
 ],
 "metadata": {
  "kernelspec": {
   "display_name": "Python 3",
   "language": "python",
   "name": "python3"
  },
  "language_info": {
   "codemirror_mode": {
    "name": "ipython",
    "version": 3
   },
   "file_extension": ".py",
   "mimetype": "text/x-python",
   "name": "python",
   "nbconvert_exporter": "python",
   "pygments_lexer": "ipython3",
   "version": "3.6.8"
  }
 },
 "nbformat": 4,
 "nbformat_minor": 2
}
