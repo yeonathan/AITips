{
 "cells": [
  {
   "cell_type": "markdown",
   "metadata": {},
   "source": [
    "# Bagging and Random Forest Models\n",
    "\n",
    "Using **ensemble methods** can greatly improve the results achieved with weak machine learning algorithms, also called **weak learners**. Ensemble methods achieve better performance by aggregating the results of many statistically independent models. This process averages out the errors and produces a final better prediction. \n",
    "\n",
    "In this lab you will work with a widely used ensemble method known as **bootstrap aggregating** or simply **bagging**. Bagging follows a simple procedure:\n",
    "1. N learners (machine learning models) are defined. \n",
    "2. N subsamples of the training data are created by **Bernoulli sampling with replacement**.\n",
    "3. The N learners are trained on the subsamples of the training data.\n",
    "4. The ensemble is scored by averaging, or taking a majority vote, of the predictions from the N learners.\n",
    "\n",
    "**Classification and regression tree models** are most typically used with bagging methods. The most common such algorithm is know as the **random forest**. The random forest method is highly scalable and generally produces good results, even for complex problems. \n",
    "\n",
    "Classification and regression trees tend to be robust to noise or outliers in the training data. This is true for the random forest algorithm as well. "
   ]
  },
  {
   "cell_type": "markdown",
   "metadata": {},
   "source": [
    "## Example: Iris dataset\n",
    "\n",
    "As a first example you will use random forest to classify the species of iris flowers. \n",
    "\n",
    "As a first step, execute the code in the cell below to load the required packages to run the rest of this notebook. \n",
    "\n",
    "> **Note:** If you are running in Azure Notebooks, make sure that you run the code in the `setup.ipynb` notebook at the start of you session to ensure your environment is correctly configured. "
   ]
  },
  {
   "cell_type": "code",
   "execution_count": 1,
   "metadata": {
    "scrolled": true
   },
   "outputs": [
    {
     "name": "stderr",
     "output_type": "stream",
     "text": [
      "\n",
      "Attaching package: 'dplyr'\n",
      "\n",
      "The following object is masked from 'package:gridExtra':\n",
      "\n",
      "    combine\n",
      "\n",
      "The following objects are masked from 'package:stats':\n",
      "\n",
      "    filter, lag\n",
      "\n",
      "The following objects are masked from 'package:base':\n",
      "\n",
      "    intersect, setdiff, setequal, union\n",
      "\n",
      "Loading required package: lattice\n",
      "randomForest 4.6-14\n",
      "Type rfNews() to see new features/changes/bug fixes.\n",
      "\n",
      "Attaching package: 'randomForest'\n",
      "\n",
      "The following object is masked from 'package:dplyr':\n",
      "\n",
      "    combine\n",
      "\n",
      "The following object is masked from 'package:gridExtra':\n",
      "\n",
      "    combine\n",
      "\n",
      "The following object is masked from 'package:ggplot2':\n",
      "\n",
      "    margin\n",
      "\n",
      "\n",
      "Attaching package: 'MLmetrics'\n",
      "\n",
      "The following objects are masked from 'package:caret':\n",
      "\n",
      "    MAE, RMSE\n",
      "\n",
      "The following object is masked from 'package:base':\n",
      "\n",
      "    Recall\n",
      "\n"
     ]
    }
   ],
   "source": [
    "## Import packages\n",
    "library(ggplot2)\n",
    "library(gridExtra)\n",
    "library(repr)\n",
    "library(dplyr)\n",
    "library(caret)\n",
    "library(randomForest)\n",
    "library(MLmetrics)\n",
    "\n",
    "options(repr.plot.width=4, repr.plot.height=4) # Set the initial plot area dimensions"
   ]
  },
  {
   "cell_type": "markdown",
   "metadata": {},
   "source": [
    "The code in the cell below displays the head of the data frame and plots all pairwise combinations of the features with the species of the iris flower in colors. Execute this code and examine the results. "
   ]
  },
  {
   "cell_type": "code",
   "execution_count": 2,
   "metadata": {},
   "outputs": [
    {
     "data": {
      "text/html": [
       "<table>\n",
       "<thead><tr><th scope=col>Sepal.Length</th><th scope=col>Sepal.Width</th><th scope=col>Petal.Length</th><th scope=col>Petal.Width</th><th scope=col>Species</th></tr></thead>\n",
       "<tbody>\n",
       "\t<tr><td>5.1   </td><td>3.5   </td><td>1.4   </td><td>0.2   </td><td>setosa</td></tr>\n",
       "\t<tr><td>4.9   </td><td>3.0   </td><td>1.4   </td><td>0.2   </td><td>setosa</td></tr>\n",
       "\t<tr><td>4.7   </td><td>3.2   </td><td>1.3   </td><td>0.2   </td><td>setosa</td></tr>\n",
       "\t<tr><td>4.6   </td><td>3.1   </td><td>1.5   </td><td>0.2   </td><td>setosa</td></tr>\n",
       "\t<tr><td>5.0   </td><td>3.6   </td><td>1.4   </td><td>0.2   </td><td>setosa</td></tr>\n",
       "\t<tr><td>5.4   </td><td>3.9   </td><td>1.7   </td><td>0.4   </td><td>setosa</td></tr>\n",
       "\t<tr><td>4.6   </td><td>3.4   </td><td>1.4   </td><td>0.3   </td><td>setosa</td></tr>\n",
       "\t<tr><td>5.0   </td><td>3.4   </td><td>1.5   </td><td>0.2   </td><td>setosa</td></tr>\n",
       "\t<tr><td>4.4   </td><td>2.9   </td><td>1.4   </td><td>0.2   </td><td>setosa</td></tr>\n",
       "\t<tr><td>4.9   </td><td>3.1   </td><td>1.5   </td><td>0.1   </td><td>setosa</td></tr>\n",
       "</tbody>\n",
       "</table>\n"
      ],
      "text/latex": [
       "\\begin{tabular}{r|lllll}\n",
       " Sepal.Length & Sepal.Width & Petal.Length & Petal.Width & Species\\\\\n",
       "\\hline\n",
       "\t 5.1    & 3.5    & 1.4    & 0.2    & setosa\\\\\n",
       "\t 4.9    & 3.0    & 1.4    & 0.2    & setosa\\\\\n",
       "\t 4.7    & 3.2    & 1.3    & 0.2    & setosa\\\\\n",
       "\t 4.6    & 3.1    & 1.5    & 0.2    & setosa\\\\\n",
       "\t 5.0    & 3.6    & 1.4    & 0.2    & setosa\\\\\n",
       "\t 5.4    & 3.9    & 1.7    & 0.4    & setosa\\\\\n",
       "\t 4.6    & 3.4    & 1.4    & 0.3    & setosa\\\\\n",
       "\t 5.0    & 3.4    & 1.5    & 0.2    & setosa\\\\\n",
       "\t 4.4    & 2.9    & 1.4    & 0.2    & setosa\\\\\n",
       "\t 4.9    & 3.1    & 1.5    & 0.1    & setosa\\\\\n",
       "\\end{tabular}\n"
      ],
      "text/markdown": [
       "\n",
       "Sepal.Length | Sepal.Width | Petal.Length | Petal.Width | Species | \n",
       "|---|---|---|---|---|---|---|---|---|---|\n",
       "| 5.1    | 3.5    | 1.4    | 0.2    | setosa | \n",
       "| 4.9    | 3.0    | 1.4    | 0.2    | setosa | \n",
       "| 4.7    | 3.2    | 1.3    | 0.2    | setosa | \n",
       "| 4.6    | 3.1    | 1.5    | 0.2    | setosa | \n",
       "| 5.0    | 3.6    | 1.4    | 0.2    | setosa | \n",
       "| 5.4    | 3.9    | 1.7    | 0.4    | setosa | \n",
       "| 4.6    | 3.4    | 1.4    | 0.3    | setosa | \n",
       "| 5.0    | 3.4    | 1.5    | 0.2    | setosa | \n",
       "| 4.4    | 2.9    | 1.4    | 0.2    | setosa | \n",
       "| 4.9    | 3.1    | 1.5    | 0.1    | setosa | \n",
       "\n",
       "\n"
      ],
      "text/plain": [
       "   Sepal.Length Sepal.Width Petal.Length Petal.Width Species\n",
       "1  5.1          3.5         1.4          0.2         setosa \n",
       "2  4.9          3.0         1.4          0.2         setosa \n",
       "3  4.7          3.2         1.3          0.2         setosa \n",
       "4  4.6          3.1         1.5          0.2         setosa \n",
       "5  5.0          3.6         1.4          0.2         setosa \n",
       "6  5.4          3.9         1.7          0.4         setosa \n",
       "7  4.6          3.4         1.4          0.3         setosa \n",
       "8  5.0          3.4         1.5          0.2         setosa \n",
       "9  4.4          2.9         1.4          0.2         setosa \n",
       "10 4.9          3.1         1.5          0.1         setosa "
      ]
     },
     "metadata": {},
     "output_type": "display_data"
    },
    {
     "data": {
      "image/png": "[encoded data removed]",
      "text/plain": [
       "plot without title"
      ]
     },
     "metadata": {},
     "output_type": "display_data"
    }
   ],
   "source": [
    "single_plot = function(df, colx, coly){\n",
    "    ggplot(df, aes_string(colx,coly)) +\n",
    "          geom_point(aes(color = factor(df$Species)), alpha = 0.4)\n",
    "}\n",
    "\n",
    "plot_iris = function(df){\n",
    "    options(repr.plot.width=8, repr.plot.height=5)\n",
    "    grid.arrange(\n",
    "        single_plot(df, 'Sepal.Length', 'Sepal.Width'),\n",
    "        single_plot(df, 'Sepal.Length', 'Petal.Length'),\n",
    "        single_plot(df, 'Petal.Length', 'Petal.Width'),\n",
    "        single_plot(df, 'Sepal.Width', 'Petal.Length'),\n",
    "        nrow = 2)\n",
    "}\n",
    "\n",
    "head(iris, 10)   \n",
    "plot_iris(iris)"
   ]
  },
  {
   "cell_type": "markdown",
   "metadata": {},
   "source": [
    "You can see that Setosa (in blue) is well separated from the other two categories. The Versicolor (in orange) and the Virginica (in green) show considerable overlap. The question is how well our classifier will separate these categories. "
   ]
  },
  {
   "cell_type": "markdown",
   "metadata": {},
   "source": [
    "Next, execute the code in the cell below to split the dataset into test and training set. Notice that unusually, 67% of the cases are being used as the test dataset. "
   ]
  },
  {
   "cell_type": "code",
   "execution_count": 3,
   "metadata": {},
   "outputs": [
    {
     "data": {
      "text/html": [
       "<ol class=list-inline>\n",
       "\t<li>51</li>\n",
       "\t<li>5</li>\n",
       "</ol>\n"
      ],
      "text/latex": [
       "\\begin{enumerate*}\n",
       "\\item 51\n",
       "\\item 5\n",
       "\\end{enumerate*}\n"
      ],
      "text/markdown": [
       "1. 51\n",
       "2. 5\n",
       "\n",
       "\n"
      ],
      "text/plain": [
       "[1] 51  5"
      ]
     },
     "metadata": {},
     "output_type": "display_data"
    },
    {
     "data": {
      "text/html": [
       "<ol class=list-inline>\n",
       "\t<li>99</li>\n",
       "\t<li>5</li>\n",
       "</ol>\n"
      ],
      "text/latex": [
       "\\begin{enumerate*}\n",
       "\\item 99\n",
       "\\item 5\n",
       "\\end{enumerate*}\n"
      ],
      "text/markdown": [
       "1. 99\n",
       "2. 5\n",
       "\n",
       "\n"
      ],
      "text/plain": [
       "[1] 99  5"
      ]
     },
     "metadata": {},
     "output_type": "display_data"
    }
   ],
   "source": [
    "set.seed(1955)\n",
    "## Randomly sample cases to create independent training and test data\n",
    "partition = createDataPartition(iris[,'Species'], times = 1, p = 0.33, list = FALSE)\n",
    "training = iris[partition,] # Create the training sample\n",
    "dim(training)\n",
    "test = iris[-partition,] # Create the test sample\n",
    "dim(test)"
   ]
  },
  {
   "cell_type": "markdown",
   "metadata": {},
   "source": [
    "As is always the case with machine learning, numeric features  must be scaled. Execute the code in the cell below to scale the training and test datasets:"
   ]
  },
  {
   "cell_type": "code",
   "execution_count": 4,
   "metadata": {},
   "outputs": [
    {
     "data": {
      "text/html": [
       "<table>\n",
       "<thead><tr><th></th><th scope=col>Sepal.Length</th><th scope=col>Sepal.Width</th><th scope=col>Petal.Length</th><th scope=col>Petal.Width</th></tr></thead>\n",
       "<tbody>\n",
       "\t<tr><th scope=row>3</th><td>-1.2646501</td><td> 0.4563512</td><td>-1.348274 </td><td>-1.287390 </td></tr>\n",
       "\t<tr><th scope=row>5</th><td>-0.9016267</td><td> 1.4161001</td><td>-1.293220 </td><td>-1.287390 </td></tr>\n",
       "\t<tr><th scope=row>6</th><td>-0.4175955</td><td> 2.1359118</td><td>-1.128059 </td><td>-1.027876 </td></tr>\n",
       "\t<tr><th scope=row>9</th><td>-1.6276734</td><td>-0.2634605</td><td>-1.293220 </td><td>-1.287390 </td></tr>\n",
       "\t<tr><th scope=row>10</th><td>-1.0226345</td><td> 0.2164140</td><td>-1.238167 </td><td>-1.417146 </td></tr>\n",
       "\t<tr><th scope=row>11</th><td>-0.4175955</td><td> 1.6560373</td><td>-1.238167 </td><td>-1.287390 </td></tr>\n",
       "</tbody>\n",
       "</table>\n"
      ],
      "text/latex": [
       "\\begin{tabular}{r|llll}\n",
       "  & Sepal.Length & Sepal.Width & Petal.Length & Petal.Width\\\\\n",
       "\\hline\n",
       "\t3 & -1.2646501 &  0.4563512 & -1.348274  & -1.287390 \\\\\n",
       "\t5 & -0.9016267 &  1.4161001 & -1.293220  & -1.287390 \\\\\n",
       "\t6 & -0.4175955 &  2.1359118 & -1.128059  & -1.027876 \\\\\n",
       "\t9 & -1.6276734 & -0.2634605 & -1.293220  & -1.287390 \\\\\n",
       "\t10 & -1.0226345 &  0.2164140 & -1.238167  & -1.417146 \\\\\n",
       "\t11 & -0.4175955 &  1.6560373 & -1.238167  & -1.287390 \\\\\n",
       "\\end{tabular}\n"
      ],
      "text/markdown": [
       "\n",
       "| <!--/--> | Sepal.Length | Sepal.Width | Petal.Length | Petal.Width | \n",
       "|---|---|---|---|---|---|\n",
       "| 3 | -1.2646501 |  0.4563512 | -1.348274  | -1.287390  | \n",
       "| 5 | -0.9016267 |  1.4161001 | -1.293220  | -1.287390  | \n",
       "| 6 | -0.4175955 |  2.1359118 | -1.128059  | -1.027876  | \n",
       "| 9 | -1.6276734 | -0.2634605 | -1.293220  | -1.287390  | \n",
       "| 10 | -1.0226345 |  0.2164140 | -1.238167  | -1.417146  | \n",
       "| 11 | -0.4175955 |  1.6560373 | -1.238167  | -1.287390  | \n",
       "\n",
       "\n"
      ],
      "text/plain": [
       "   Sepal.Length Sepal.Width Petal.Length Petal.Width\n",
       "3  -1.2646501    0.4563512  -1.348274    -1.287390  \n",
       "5  -0.9016267    1.4161001  -1.293220    -1.287390  \n",
       "6  -0.4175955    2.1359118  -1.128059    -1.027876  \n",
       "9  -1.6276734   -0.2634605  -1.293220    -1.287390  \n",
       "10 -1.0226345    0.2164140  -1.238167    -1.417146  \n",
       "11 -0.4175955    1.6560373  -1.238167    -1.287390  "
      ]
     },
     "metadata": {},
     "output_type": "display_data"
    }
   ],
   "source": [
    "num_cols = c('Sepal.Length', 'Sepal.Width', 'Petal.Length', 'Petal.Width')\n",
    "preProcValues <- preProcess(training[,num_cols], method = c(\"center\", \"scale\"))\n",
    "\n",
    "training[,num_cols] = predict(preProcValues, training[,num_cols])\n",
    "test[,num_cols] = predict(preProcValues, test[,num_cols])\n",
    "head(training[,num_cols])"
   ]
  },
  {
   "cell_type": "markdown",
   "metadata": {},
   "source": [
    "Now you will define and fit a random forest model. The code in the cell below defines random forest model with 5 trees using the `randomForest` function from the R randomForest package, and then fits the model. Execute this code."
   ]
  },
  {
   "cell_type": "code",
   "execution_count": 5,
   "metadata": {},
   "outputs": [],
   "source": [
    "set.seed(1115)\n",
    "rf_mod = randomForest(Species ~ ., data = training, ntree = 5)"
   ]
  },
  {
   "cell_type": "markdown",
   "metadata": {},
   "source": [
    "Next, the code in the cell below uses the `predict` method is used to compute the class score from the scaled features. Execute this code. "
   ]
  },
  {
   "cell_type": "code",
   "execution_count": 6,
   "metadata": {},
   "outputs": [
    {
     "data": {
      "text/html": [
       "<table>\n",
       "<thead><tr><th></th><th scope=col>Sepal.Length</th><th scope=col>Sepal.Width</th><th scope=col>Petal.Length</th><th scope=col>Petal.Width</th><th scope=col>Species</th><th scope=col>scores</th></tr></thead>\n",
       "<tbody>\n",
       "\t<tr><th scope=row>1</th><td>-0.78061890</td><td> 1.17616289</td><td>-1.293220  </td><td>-1.2873898 </td><td>setosa     </td><td>setosa     </td></tr>\n",
       "\t<tr><th scope=row>2</th><td>-1.02263448</td><td>-0.02352326</td><td>-1.293220  </td><td>-1.2873898 </td><td>setosa     </td><td>setosa     </td></tr>\n",
       "\t<tr><th scope=row>4</th><td>-1.38565786</td><td> 0.21641397</td><td>-1.238167  </td><td>-1.2873898 </td><td>setosa     </td><td>setosa     </td></tr>\n",
       "\t<tr><th scope=row>7</th><td>-1.38565786</td><td> 0.93622566</td><td>-1.293220  </td><td>-1.1576331 </td><td>setosa     </td><td>setosa     </td></tr>\n",
       "\t<tr><th scope=row>8</th><td>-0.90162669</td><td> 0.93622566</td><td>-1.238167  </td><td>-1.2873898 </td><td>setosa     </td><td>setosa     </td></tr>\n",
       "\t<tr><th scope=row>12</th><td>-1.14364227</td><td> 0.93622566</td><td>-1.183113  </td><td>-1.2873898 </td><td>setosa     </td><td>setosa     </td></tr>\n",
       "\t<tr><th scope=row>14</th><td>-1.74868124</td><td>-0.02352326</td><td>-1.458381  </td><td>-1.4171465 </td><td>setosa     </td><td>setosa     </td></tr>\n",
       "\t<tr><th scope=row>15</th><td> 0.06643565</td><td> 2.37584904</td><td>-1.403328  </td><td>-1.2873898 </td><td>setosa     </td><td>setosa     </td></tr>\n",
       "\t<tr><th scope=row>16</th><td>-0.05457214</td><td> 3.33559795</td><td>-1.238167  </td><td>-1.0278764 </td><td>setosa     </td><td>setosa     </td></tr>\n",
       "\t<tr><th scope=row>19</th><td>-0.05457214</td><td> 1.89597458</td><td>-1.128059  </td><td>-1.1576331 </td><td>setosa     </td><td>setosa     </td></tr>\n",
       "\t<tr><th scope=row>20</th><td>-0.78061890</td><td> 1.89597458</td><td>-1.238167  </td><td>-1.1576331 </td><td>setosa     </td><td>setosa     </td></tr>\n",
       "\t<tr><th scope=row>23</th><td>-1.38565786</td><td> 1.41610012</td><td>-1.513435  </td><td>-1.2873898 </td><td>setosa     </td><td>setosa     </td></tr>\n",
       "\t<tr><th scope=row>24</th><td>-0.78061890</td><td> 0.69628843</td><td>-1.128059  </td><td>-0.8981197 </td><td>setosa     </td><td>setosa     </td></tr>\n",
       "\t<tr><th scope=row>25</th><td>-1.14364227</td><td> 0.93622566</td><td>-1.017952  </td><td>-1.2873898 </td><td>setosa     </td><td>setosa     </td></tr>\n",
       "\t<tr><th scope=row>26</th><td>-0.90162669</td><td>-0.02352326</td><td>-1.183113  </td><td>-1.2873898 </td><td>setosa     </td><td>setosa     </td></tr>\n",
       "\t<tr><th scope=row>27</th><td>-0.90162669</td><td> 0.93622566</td><td>-1.183113  </td><td>-1.0278764 </td><td>setosa     </td><td>setosa     </td></tr>\n",
       "\t<tr><th scope=row>28</th><td>-0.65961110</td><td> 1.17616289</td><td>-1.238167  </td><td>-1.2873898 </td><td>setosa     </td><td>setosa     </td></tr>\n",
       "\t<tr><th scope=row>29</th><td>-0.65961110</td><td> 0.93622566</td><td>-1.293220  </td><td>-1.2873898 </td><td>setosa     </td><td>setosa     </td></tr>\n",
       "\t<tr><th scope=row>30</th><td>-1.26465007</td><td> 0.45635120</td><td>-1.183113  </td><td>-1.2873898 </td><td>setosa     </td><td>setosa     </td></tr>\n",
       "\t<tr><th scope=row>31</th><td>-1.14364227</td><td> 0.21641397</td><td>-1.183113  </td><td>-1.2873898 </td><td>setosa     </td><td>setosa     </td></tr>\n",
       "</tbody>\n",
       "</table>\n"
      ],
      "text/latex": [
       "\\begin{tabular}{r|llllll}\n",
       "  & Sepal.Length & Sepal.Width & Petal.Length & Petal.Width & Species & scores\\\\\n",
       "\\hline\n",
       "\t1 & -0.78061890 &  1.17616289 & -1.293220   & -1.2873898  & setosa      & setosa     \\\\\n",
       "\t2 & -1.02263448 & -0.02352326 & -1.293220   & -1.2873898  & setosa      & setosa     \\\\\n",
       "\t4 & -1.38565786 &  0.21641397 & -1.238167   & -1.2873898  & setosa      & setosa     \\\\\n",
       "\t7 & -1.38565786 &  0.93622566 & -1.293220   & -1.1576331  & setosa      & setosa     \\\\\n",
       "\t8 & -0.90162669 &  0.93622566 & -1.238167   & -1.2873898  & setosa      & setosa     \\\\\n",
       "\t12 & -1.14364227 &  0.93622566 & -1.183113   & -1.2873898  & setosa      & setosa     \\\\\n",
       "\t14 & -1.74868124 & -0.02352326 & -1.458381   & -1.4171465  & setosa      & setosa     \\\\\n",
       "\t15 &  0.06643565 &  2.37584904 & -1.403328   & -1.2873898  & setosa      & setosa     \\\\\n",
       "\t16 & -0.05457214 &  3.33559795 & -1.238167   & -1.0278764  & setosa      & setosa     \\\\\n",
       "\t19 & -0.05457214 &  1.89597458 & -1.128059   & -1.1576331  & setosa      & setosa     \\\\\n",
       "\t20 & -0.78061890 &  1.89597458 & -1.238167   & -1.1576331  & setosa      & setosa     \\\\\n",
       "\t23 & -1.38565786 &  1.41610012 & -1.513435   & -1.2873898  & setosa      & setosa     \\\\\n",
       "\t24 & -0.78061890 &  0.69628843 & -1.128059   & -0.8981197  & setosa      & setosa     \\\\\n",
       "\t25 & -1.14364227 &  0.93622566 & -1.017952   & -1.2873898  & setosa      & setosa     \\\\\n",
       "\t26 & -0.90162669 & -0.02352326 & -1.183113   & -1.2873898  & setosa      & setosa     \\\\\n",
       "\t27 & -0.90162669 &  0.93622566 & -1.183113   & -1.0278764  & setosa      & setosa     \\\\\n",
       "\t28 & -0.65961110 &  1.17616289 & -1.238167   & -1.2873898  & setosa      & setosa     \\\\\n",
       "\t29 & -0.65961110 &  0.93622566 & -1.293220   & -1.2873898  & setosa      & setosa     \\\\\n",
       "\t30 & -1.26465007 &  0.45635120 & -1.183113   & -1.2873898  & setosa      & setosa     \\\\\n",
       "\t31 & -1.14364227 &  0.21641397 & -1.183113   & -1.2873898  & setosa      & setosa     \\\\\n",
       "\\end{tabular}\n"
      ],
      "text/markdown": [
       "\n",
       "| <!--/--> | Sepal.Length | Sepal.Width | Petal.Length | Petal.Width | Species | scores | \n",
       "|---|---|---|---|---|---|---|---|---|---|---|---|---|---|---|---|---|---|---|---|\n",
       "| 1 | -0.78061890 |  1.17616289 | -1.293220   | -1.2873898  | setosa      | setosa      | \n",
       "| 2 | -1.02263448 | -0.02352326 | -1.293220   | -1.2873898  | setosa      | setosa      | \n",
       "| 4 | -1.38565786 |  0.21641397 | -1.238167   | -1.2873898  | setosa      | setosa      | \n",
       "| 7 | -1.38565786 |  0.93622566 | -1.293220   | -1.1576331  | setosa      | setosa      | \n",
       "| 8 | -0.90162669 |  0.93622566 | -1.238167   | -1.2873898  | setosa      | setosa      | \n",
       "| 12 | -1.14364227 |  0.93622566 | -1.183113   | -1.2873898  | setosa      | setosa      | \n",
       "| 14 | -1.74868124 | -0.02352326 | -1.458381   | -1.4171465  | setosa      | setosa      | \n",
       "| 15 |  0.06643565 |  2.37584904 | -1.403328   | -1.2873898  | setosa      | setosa      | \n",
       "| 16 | -0.05457214 |  3.33559795 | -1.238167   | -1.0278764  | setosa      | setosa      | \n",
       "| 19 | -0.05457214 |  1.89597458 | -1.128059   | -1.1576331  | setosa      | setosa      | \n",
       "| 20 | -0.78061890 |  1.89597458 | -1.238167   | -1.1576331  | setosa      | setosa      | \n",
       "| 23 | -1.38565786 |  1.41610012 | -1.513435   | -1.2873898  | setosa      | setosa      | \n",
       "| 24 | -0.78061890 |  0.69628843 | -1.128059   | -0.8981197  | setosa      | setosa      | \n",
       "| 25 | -1.14364227 |  0.93622566 | -1.017952   | -1.2873898  | setosa      | setosa      | \n",
       "| 26 | -0.90162669 | -0.02352326 | -1.183113   | -1.2873898  | setosa      | setosa      | \n",
       "| 27 | -0.90162669 |  0.93622566 | -1.183113   | -1.0278764  | setosa      | setosa      | \n",
       "| 28 | -0.65961110 |  1.17616289 | -1.238167   | -1.2873898  | setosa      | setosa      | \n",
       "| 29 | -0.65961110 |  0.93622566 | -1.293220   | -1.2873898  | setosa      | setosa      | \n",
       "| 30 | -1.26465007 |  0.45635120 | -1.183113   | -1.2873898  | setosa      | setosa      | \n",
       "| 31 | -1.14364227 |  0.21641397 | -1.183113   | -1.2873898  | setosa      | setosa      | \n",
       "\n",
       "\n"
      ],
      "text/plain": [
       "   Sepal.Length Sepal.Width Petal.Length Petal.Width Species scores\n",
       "1  -0.78061890   1.17616289 -1.293220    -1.2873898  setosa  setosa\n",
       "2  -1.02263448  -0.02352326 -1.293220    -1.2873898  setosa  setosa\n",
       "4  -1.38565786   0.21641397 -1.238167    -1.2873898  setosa  setosa\n",
       "7  -1.38565786   0.93622566 -1.293220    -1.1576331  setosa  setosa\n",
       "8  -0.90162669   0.93622566 -1.238167    -1.2873898  setosa  setosa\n",
       "12 -1.14364227   0.93622566 -1.183113    -1.2873898  setosa  setosa\n",
       "14 -1.74868124  -0.02352326 -1.458381    -1.4171465  setosa  setosa\n",
       "15  0.06643565   2.37584904 -1.403328    -1.2873898  setosa  setosa\n",
       "16 -0.05457214   3.33559795 -1.238167    -1.0278764  setosa  setosa\n",
       "19 -0.05457214   1.89597458 -1.128059    -1.1576331  setosa  setosa\n",
       "20 -0.78061890   1.89597458 -1.238167    -1.1576331  setosa  setosa\n",
       "23 -1.38565786   1.41610012 -1.513435    -1.2873898  setosa  setosa\n",
       "24 -0.78061890   0.69628843 -1.128059    -0.8981197  setosa  setosa\n",
       "25 -1.14364227   0.93622566 -1.017952    -1.2873898  setosa  setosa\n",
       "26 -0.90162669  -0.02352326 -1.183113    -1.2873898  setosa  setosa\n",
       "27 -0.90162669   0.93622566 -1.183113    -1.0278764  setosa  setosa\n",
       "28 -0.65961110   1.17616289 -1.238167    -1.2873898  setosa  setosa\n",
       "29 -0.65961110   0.93622566 -1.293220    -1.2873898  setosa  setosa\n",
       "30 -1.26465007   0.45635120 -1.183113    -1.2873898  setosa  setosa\n",
       "31 -1.14364227   0.21641397 -1.183113    -1.2873898  setosa  setosa"
      ]
     },
     "metadata": {},
     "output_type": "display_data"
    }
   ],
   "source": [
    "test$scores = predict(rf_mod, newdata = test)\n",
    "head(test, 20)"
   ]
  },
  {
   "cell_type": "markdown",
   "metadata": {},
   "source": [
    "It is time to evaluate the model results. Keep in mind that the problem has been made difficult deliberately, by having more test cases than training cases. \n",
    "\n",
    "The iris data has three species categories. Therefore it is necessary to use evaluation code for a three category problem. The function in the cell below extends code from previous labs to deal with a three category problem. Execute this code and examine the results."
   ]
  },
  {
   "cell_type": "code",
   "execution_count": 7,
   "metadata": {},
   "outputs": [
    {
     "name": "stdout",
     "output_type": "stream",
     "text": [
      "            Predicted\n",
      "Actual       setosa versicolor virginica\n",
      "  setosa         33          0         0\n",
      "  versicolor      0         29         4\n",
      "  virginica       0          2        31\n",
      "\n",
      "Accuracy =  0.939 \n",
      " \n",
      "          setosa versicolor virginica\n",
      "Precision      1      0.879     0.939\n",
      "Recall         1      0.935     0.886\n",
      "F1             1      0.906     0.912\n"
     ]
    }
   ],
   "source": [
    "print_metrics = function(df, label){\n",
    "    ## Compute and print the confusion matrix\n",
    "    cm = as.matrix(table(Actual = df$Species, Predicted = df$scores))\n",
    "    print(cm)\n",
    "\n",
    "    ## Compute and print accuracy \n",
    "    accuracy = round(sum(sapply(1:nrow(cm), function(i) cm[i,i]))/sum(cm), 3)\n",
    "    cat('\\n')\n",
    "    cat(paste('Accuracy = ', as.character(accuracy)), '\\n \\n')                           \n",
    "\n",
    "    ## Compute and print precision, recall and F1\n",
    "    precision = sapply(1:nrow(cm), function(i) cm[i,i]/sum(cm[i,]))\n",
    "    recall = sapply(1:nrow(cm), function(i) cm[i,i]/sum(cm[,i]))    \n",
    "    F1 = sapply(1:nrow(cm), function(i) 2*(recall[i] * precision[i])/(recall[i] + precision[i]))    \n",
    "    metrics = sapply(c(precision, recall, F1), round, 3)        \n",
    "    metrics = t(matrix(metrics, nrow = nrow(cm), ncol = ncol(cm)))       \n",
    "    dimnames(metrics) = list(c('Precision', 'Recall', 'F1'), unique(test$Species))      \n",
    "    print(metrics)\n",
    "}  \n",
    "print_metrics(test, 'Species')"
   ]
  },
  {
   "cell_type": "markdown",
   "metadata": {},
   "source": [
    "Examine these results. Notice the following:\n",
    "1. The confusion matrix has dimension 3X3. You can see that most cases are correctly classified with only a few errors. \n",
    "2. The overall accuracy is 0.96. Since the classes are roughly balanced, this metric indicates relatively good performance of the classifier, particularly since it was only trained on 50 cases. \n",
    "3. The precision, recall and  F1 for each of the classes is quite good.\n",
    "|\n",
    "To get a better feel for what the classifier is doing, the code in the cell below displays a set of plots showing correctly (as '+') and incorrectly (as 'o') cases, with the species color-coded. Execute this code and examine the results. "
   ]
  },
  {
   "cell_type": "markdown",
   "metadata": {},
   "source": [
    "Examine these plots. You can see how the classifier has divided the feature space between the classes. Notice that most of the errors occur in the overlap region between Virginica and Versicolor. This behavior is to be expected.  \n",
    "\n",
    "Is it possible that a random forest model with more trees would separate these cases better? The code in the cell below uses a model with 40 trees (estimators). This model is fit with the training data and displays the evaluation of the model. \n",
    "\n",
    "Execute this code and answer **Question 1** on the course page."
   ]
  },
  {
   "cell_type": "code",
   "execution_count": 8,
   "metadata": {},
   "outputs": [
    {
     "name": "stdout",
     "output_type": "stream",
     "text": [
      "            Predicted\n",
      "Actual       setosa versicolor virginica\n",
      "  setosa         33          0         0\n",
      "  versicolor      0         31         2\n",
      "  virginica       0          3        30\n",
      "\n",
      "Accuracy =  0.949 \n",
      " \n",
      "          setosa versicolor virginica\n",
      "Precision      1      0.939     0.909\n",
      "Recall         1      0.912     0.938\n",
      "F1             1      0.925     0.923\n"
     ]
    }
   ],
   "source": [
    "set.seed(1115)\n",
    "rf_mod = randomForest(Species ~ ., data = training, ntree = 40)\n",
    "test$scores = predict(rf_mod, newdata = test)\n",
    "print_metrics(test, 'Species')"
   ]
  },
  {
   "cell_type": "markdown",
   "metadata": {},
   "source": [
    "These results are identical to the model with 5 trees. \n",
    "\n",
    "Like most tree-based models, random forest models have a nice property that **feature importance** is computed during model training. Feature importance can be used as a feature selection method. The `varImp` function from the Caret package performs the calculation.  \n",
    "\n",
    "Execute the code in the cell below to display a plot of the feature importance."
   ]
  },
  {
   "cell_type": "code",
   "execution_count": 9,
   "metadata": {},
   "outputs": [
    {
     "data": {},
     "metadata": {},
     "output_type": "display_data"
    },
    {
     "data": {
      "image/png": "[encoded data removed]",
      "text/plain": [
       "plot without title"
      ]
     },
     "metadata": {},
     "output_type": "display_data"
    }
   ],
   "source": [
    "options(repr.plot.width=4, repr.plot.height=3)\n",
    "imp = varImp(rf_mod)\n",
    "imp[,'Feature'] = row.names(imp)\n",
    "ggplot(imp, aes(x = Feature, y = Overall)) + geom_point(size = 4) +\n",
    "       ggtitle('Variable importance for iris features')"
   ]
  },
  {
   "cell_type": "markdown",
   "metadata": {},
   "source": [
    "Examine the plot displayed above. Notice that the Speal_Lenght and Sepal_Width have rather low importance. \n",
    "\n",
    "Should these features be dropped from the model? To find out, you will create a model with a reduced feature set and compare the results. As a first step, execute the code in the cell below to create training and test datasets using the reduced features."
   ]
  },
  {
   "cell_type": "code",
   "execution_count": 10,
   "metadata": {
    "scrolled": true
   },
   "outputs": [
    {
     "name": "stdout",
     "output_type": "stream",
     "text": [
      "            Predicted\n",
      "Actual       setosa versicolor virginica\n",
      "  setosa         33          0         0\n",
      "  versicolor      0         32         1\n",
      "  virginica       0          3        30\n",
      "\n",
      "Accuracy =  0.96 \n",
      " \n",
      "          setosa versicolor virginica\n",
      "Precision      1      0.970     0.909\n",
      "Recall         1      0.914     0.968\n",
      "F1             1      0.941     0.937\n"
     ]
    }
   ],
   "source": [
    "set.seed(1115)\n",
    "rf_mod = randomForest(Species ~ Petal.Length + Petal.Width, data = training, ntree = 100)\n",
    "test$scores = predict(rf_mod, newdata = test)\n",
    "print_metrics(test, 'Species')"
   ]
  },
  {
   "cell_type": "markdown",
   "metadata": {},
   "source": [
    "Once you have executed the code, answer **Question 2** on the course page."
   ]
  },
  {
   "cell_type": "markdown",
   "metadata": {},
   "source": [
    "These results are a bit better which may indicate the original model was over-fit. Given that a simpler model is more likely to generalize, this model is preferred. "
   ]
  },
  {
   "cell_type": "code",
   "execution_count": 11,
   "metadata": {
    "scrolled": false
   },
   "outputs": [
    {
     "data": {
      "image/png": "[encoded data removed]",
      "text/plain": [
       "plot without title"
      ]
     },
     "metadata": {},
     "output_type": "display_data"
    }
   ],
   "source": [
    "## Create column of correct-incorrect classification\n",
    "test$correct = ifelse(test$Species == test$scores, 'correct', 'incorrect')\n",
    "\n",
    "single_plot_classes = function(df, colx, coly){\n",
    "    ggplot(df, aes_string(colx,coly)) +\n",
    "          geom_point(aes(color = factor(df$Species), shape = correct), alpha = 0.4)\n",
    "}\n",
    "\n",
    "plot_iris_classes = function(df){\n",
    "    options(repr.plot.width=8, repr.plot.height=5)\n",
    "    grid.arrange(\n",
    "        single_plot_classes(df, 'Sepal.Length', 'Sepal.Width'),\n",
    "        single_plot_classes(df, 'Sepal.Length', 'Petal.Length'),\n",
    "        single_plot_classes(df, 'Petal.Length', 'Petal.Width'),\n",
    "        single_plot_classes(df, 'Sepal.Width', 'Petal.Length'),\n",
    "        nrow = 2)\n",
    "}\n",
    "\n",
    "plot_iris_classes(test)"
   ]
  },
  {
   "cell_type": "markdown",
   "metadata": {},
   "source": [
    "## Another example\n",
    "\n",
    "\n",
    "Now, you will try a more complex example using the credit scoring data. You will use the prepared data which has been prepared by removing duplicate cases. Some columns which are know not to be predictive are removed. Execute the code in the cell below to load the dataset for the example. "
   ]
  },
  {
   "cell_type": "code",
   "execution_count": 12,
   "metadata": {},
   "outputs": [
    {
     "name": "stdout",
     "output_type": "stream",
     "text": [
      "[1] 1000   16\n"
     ]
    },
    {
     "data": {
      "text/html": [
       "<ol class=list-inline>\n",
       "\t<li>'checking_account_status'</li>\n",
       "\t<li>'loan_duration_mo'</li>\n",
       "\t<li>'credit_history'</li>\n",
       "\t<li>'loan_amount'</li>\n",
       "\t<li>'savings_account_balance'</li>\n",
       "\t<li>'time_employed_yrs'</li>\n",
       "\t<li>'payment_pcnt_income'</li>\n",
       "\t<li>'time_in_residence'</li>\n",
       "\t<li>'property'</li>\n",
       "\t<li>'age_yrs'</li>\n",
       "\t<li>'other_credit_outstanding'</li>\n",
       "\t<li>'number_loans'</li>\n",
       "\t<li>'job_category'</li>\n",
       "\t<li>'dependents'</li>\n",
       "\t<li>'telephone'</li>\n",
       "\t<li>'bad_credit'</li>\n",
       "</ol>\n"
      ],
      "text/latex": [
       "\\begin{enumerate*}\n",
       "\\item 'checking\\_account\\_status'\n",
       "\\item 'loan\\_duration\\_mo'\n",
       "\\item 'credit\\_history'\n",
       "\\item 'loan\\_amount'\n",
       "\\item 'savings\\_account\\_balance'\n",
       "\\item 'time\\_employed\\_yrs'\n",
       "\\item 'payment\\_pcnt\\_income'\n",
       "\\item 'time\\_in\\_residence'\n",
       "\\item 'property'\n",
       "\\item 'age\\_yrs'\n",
       "\\item 'other\\_credit\\_outstanding'\n",
       "\\item 'number\\_loans'\n",
       "\\item 'job\\_category'\n",
       "\\item 'dependents'\n",
       "\\item 'telephone'\n",
       "\\item 'bad\\_credit'\n",
       "\\end{enumerate*}\n"
      ],
      "text/markdown": [
       "1. 'checking_account_status'\n",
       "2. 'loan_duration_mo'\n",
       "3. 'credit_history'\n",
       "4. 'loan_amount'\n",
       "5. 'savings_account_balance'\n",
       "6. 'time_employed_yrs'\n",
       "7. 'payment_pcnt_income'\n",
       "8. 'time_in_residence'\n",
       "9. 'property'\n",
       "10. 'age_yrs'\n",
       "11. 'other_credit_outstanding'\n",
       "12. 'number_loans'\n",
       "13. 'job_category'\n",
       "14. 'dependents'\n",
       "15. 'telephone'\n",
       "16. 'bad_credit'\n",
       "\n",
       "\n"
      ],
      "text/plain": [
       " [1] \"checking_account_status\"  \"loan_duration_mo\"        \n",
       " [3] \"credit_history\"           \"loan_amount\"             \n",
       " [5] \"savings_account_balance\"  \"time_employed_yrs\"       \n",
       " [7] \"payment_pcnt_income\"      \"time_in_residence\"       \n",
       " [9] \"property\"                 \"age_yrs\"                 \n",
       "[11] \"other_credit_outstanding\" \"number_loans\"            \n",
       "[13] \"job_category\"             \"dependents\"              \n",
       "[15] \"telephone\"                \"bad_credit\"              "
      ]
     },
     "metadata": {},
     "output_type": "display_data"
    }
   ],
   "source": [
    "credit = read.csv('German_Credit_Preped.csv', header = TRUE)\n",
    "## Subset the data frame\n",
    "credit = credit[,c('checking_account_status', 'loan_duration_mo', 'credit_history', 'loan_amount', 'savings_account_balance',\n",
    "                   'time_employed_yrs', 'payment_pcnt_income', 'time_in_residence', 'property', 'age_yrs',\n",
    "                   'other_credit_outstanding', 'number_loans', 'job_category', 'dependents', 'telephone', 'bad_credit' )]\n",
    "print(dim(credit))\n",
    "names(credit)"
   ]
  },
  {
   "cell_type": "markdown",
   "metadata": {},
   "source": [
    "Cross validation will be used to train the model. Since folds will be selected from the entire dataset the numeric features are scaled in batch. Execute the code in the cell below to accomplish this: "
   ]
  },
  {
   "cell_type": "code",
   "execution_count": 13,
   "metadata": {
    "scrolled": true
   },
   "outputs": [
    {
     "data": {
      "text/html": [
       "<table>\n",
       "<thead><tr><th scope=col>loan_duration_mo</th><th scope=col>loan_amount</th><th scope=col>payment_pcnt_income</th><th scope=col>time_in_residence</th><th scope=col>age_yrs</th><th scope=col>number_loans</th><th scope=col>dependents</th></tr></thead>\n",
       "<tbody>\n",
       "\t<tr><td>-1.2358595 </td><td>-0.7447588 </td><td> 0.91801781</td><td> 1.0464631 </td><td> 2.76507291</td><td> 1.0265652 </td><td>-0.4280754 </td></tr>\n",
       "\t<tr><td> 2.2470700 </td><td> 0.9493418 </td><td>-0.86974813</td><td>-0.7655942 </td><td>-1.19080809</td><td>-0.7045734 </td><td>-0.4280754 </td></tr>\n",
       "\t<tr><td>-0.7382981 </td><td>-0.4163541 </td><td>-0.86974813</td><td> 0.1404344 </td><td> 1.18272051</td><td>-0.7045734 </td><td> 2.3337012 </td></tr>\n",
       "\t<tr><td> 1.7495086 </td><td> 1.6334296 </td><td>-0.86974813</td><td> 1.0464631 </td><td> 0.83108664</td><td>-0.7045734 </td><td> 2.3337012 </td></tr>\n",
       "\t<tr><td> 0.2568246 </td><td> 0.5663801 </td><td> 0.02413484</td><td> 1.0464631 </td><td> 1.53435438</td><td> 1.0265652 </td><td> 2.3337012 </td></tr>\n",
       "\t<tr><td> 1.2519473 </td><td> 2.0489838 </td><td>-0.86974813</td><td> 1.0464631 </td><td>-0.04799802</td><td>-0.7045734 </td><td> 2.3337012 </td></tr>\n",
       "</tbody>\n",
       "</table>\n"
      ],
      "text/latex": [
       "\\begin{tabular}{r|lllllll}\n",
       " loan\\_duration\\_mo & loan\\_amount & payment\\_pcnt\\_income & time\\_in\\_residence & age\\_yrs & number\\_loans & dependents\\\\\n",
       "\\hline\n",
       "\t -1.2358595  & -0.7447588  &  0.91801781 &  1.0464631  &  2.76507291 &  1.0265652  & -0.4280754 \\\\\n",
       "\t  2.2470700  &  0.9493418  & -0.86974813 & -0.7655942  & -1.19080809 & -0.7045734  & -0.4280754 \\\\\n",
       "\t -0.7382981  & -0.4163541  & -0.86974813 &  0.1404344  &  1.18272051 & -0.7045734  &  2.3337012 \\\\\n",
       "\t  1.7495086  &  1.6334296  & -0.86974813 &  1.0464631  &  0.83108664 & -0.7045734  &  2.3337012 \\\\\n",
       "\t  0.2568246  &  0.5663801  &  0.02413484 &  1.0464631  &  1.53435438 &  1.0265652  &  2.3337012 \\\\\n",
       "\t  1.2519473  &  2.0489838  & -0.86974813 &  1.0464631  & -0.04799802 & -0.7045734  &  2.3337012 \\\\\n",
       "\\end{tabular}\n"
      ],
      "text/markdown": [
       "\n",
       "loan_duration_mo | loan_amount | payment_pcnt_income | time_in_residence | age_yrs | number_loans | dependents | \n",
       "|---|---|---|---|---|---|\n",
       "| -1.2358595  | -0.7447588  |  0.91801781 |  1.0464631  |  2.76507291 |  1.0265652  | -0.4280754  | \n",
       "|  2.2470700  |  0.9493418  | -0.86974813 | -0.7655942  | -1.19080809 | -0.7045734  | -0.4280754  | \n",
       "| -0.7382981  | -0.4163541  | -0.86974813 |  0.1404344  |  1.18272051 | -0.7045734  |  2.3337012  | \n",
       "|  1.7495086  |  1.6334296  | -0.86974813 |  1.0464631  |  0.83108664 | -0.7045734  |  2.3337012  | \n",
       "|  0.2568246  |  0.5663801  |  0.02413484 |  1.0464631  |  1.53435438 |  1.0265652  |  2.3337012  | \n",
       "|  1.2519473  |  2.0489838  | -0.86974813 |  1.0464631  | -0.04799802 | -0.7045734  |  2.3337012  | \n",
       "\n",
       "\n"
      ],
      "text/plain": [
       "  loan_duration_mo loan_amount payment_pcnt_income time_in_residence\n",
       "1 -1.2358595       -0.7447588   0.91801781          1.0464631       \n",
       "2  2.2470700        0.9493418  -0.86974813         -0.7655942       \n",
       "3 -0.7382981       -0.4163541  -0.86974813          0.1404344       \n",
       "4  1.7495086        1.6334296  -0.86974813          1.0464631       \n",
       "5  0.2568246        0.5663801   0.02413484          1.0464631       \n",
       "6  1.2519473        2.0489838  -0.86974813          1.0464631       \n",
       "  age_yrs     number_loans dependents\n",
       "1  2.76507291  1.0265652   -0.4280754\n",
       "2 -1.19080809 -0.7045734   -0.4280754\n",
       "3  1.18272051 -0.7045734    2.3337012\n",
       "4  0.83108664 -0.7045734    2.3337012\n",
       "5  1.53435438  1.0265652    2.3337012\n",
       "6 -0.04799802 -0.7045734    2.3337012"
      ]
     },
     "metadata": {},
     "output_type": "display_data"
    }
   ],
   "source": [
    "num_cols = c('loan_duration_mo', 'loan_amount', 'payment_pcnt_income',\n",
    "             'time_in_residence', 'age_yrs', 'number_loans', 'dependents')\n",
    "\n",
    "preProcValues <- preProcess(credit[,num_cols], method = c(\"center\", \"scale\"))\n",
    "credit[,num_cols] = predict(preProcValues, credit[,num_cols])\n",
    "head(credit[,num_cols])"
   ]
  },
  {
   "cell_type": "markdown",
   "metadata": {},
   "source": [
    "The R Caret package computes most performance metrics using the positive cases. For example, recall is a measure of correct classification of positive cases. Therefore, it is important to have the coding of the label correct. The code in the cell below creates a factor (categorical) variable and coerces the levels of the label column, `bad_credit`. Execute this code. "
   ]
  },
  {
   "cell_type": "code",
   "execution_count": 14,
   "metadata": {},
   "outputs": [
    {
     "data": {
      "text/html": [
       "<ol class=list-inline>\n",
       "\t<li>good</li>\n",
       "\t<li>bad</li>\n",
       "\t<li>good</li>\n",
       "\t<li>good</li>\n",
       "\t<li>bad</li>\n",
       "</ol>\n",
       "\n",
       "<details>\n",
       "\t<summary style=display:list-item;cursor:pointer>\n",
       "\t\t<strong>Levels</strong>:\n",
       "\t</summary>\n",
       "\t<ol class=list-inline>\n",
       "\t\t<li>'bad'</li>\n",
       "\t\t<li>'good'</li>\n",
       "\t</ol>\n",
       "</details>"
      ],
      "text/latex": [
       "\\begin{enumerate*}\n",
       "\\item good\n",
       "\\item bad\n",
       "\\item good\n",
       "\\item good\n",
       "\\item bad\n",
       "\\end{enumerate*}\n",
       "\n",
       "\\emph{Levels}: \\begin{enumerate*}\n",
       "\\item 'bad'\n",
       "\\item 'good'\n",
       "\\end{enumerate*}\n"
      ],
      "text/markdown": [
       "1. good\n",
       "2. bad\n",
       "3. good\n",
       "4. good\n",
       "5. bad\n",
       "\n",
       "\n",
       "\n",
       "**Levels**: 1. 'bad'\n",
       "2. 'good'\n",
       "\n",
       "\n"
      ],
      "text/plain": [
       "[1] good bad  good good bad \n",
       "Levels: bad good"
      ]
     },
     "metadata": {},
     "output_type": "display_data"
    }
   ],
   "source": [
    "credit$bad_credit <- ifelse(credit$bad_credit == 1, 'bad', 'good')\n",
    "credit$bad_credit <- factor(credit$bad_credit, levels = c('bad', 'good'))\n",
    "credit$bad_credit[1:5]"
   ]
  },
  {
   "cell_type": "markdown",
   "metadata": {},
   "source": [
    "In the results above you can see the new coding of the label column along with the levels, {'bad', 'good'}. \n",
    "\n",
    "As the inner loop of a nested cross validation, the code in the cell below uses the capability of the R Caret package to estimate the best hyperparameters using 5 fold cross validation. This first cross validation is performed using ROC as the metric. There are a few points to note here:\n",
    "1. A Caret `trainControl` object is used to define the 5 fold cross validation. The `twoClassSummary` function is specified, making ROC the metric for hyperparameter optimization. \n",
    "2. The model is trained using all features as can be seen from the model formula in the Caret `train` function. \n",
    "3. `ROC` is specified as a `metric` in the call to `train`. \n",
    "4. Weights are specified to help with the class imbalance and the cost imbalance of misclassification of bad credit customers. \n",
    "5. The `train` function uses a `tuneGrid` argument to define the hyperparameters to search. \n",
    "\n",
    "Execute this code and examine the result."
   ]
  },
  {
   "cell_type": "code",
   "execution_count": 15,
   "metadata": {},
   "outputs": [
    {
     "name": "stdout",
     "output_type": "stream",
     "text": [
      "Random Forest \n",
      "\n",
      "1000 samples\n",
      "  15 predictor\n",
      "   2 classes: 'bad', 'good' \n",
      "\n",
      "No pre-processing\n",
      "Resampling: Cross-Validated (5 fold) \n",
      "Summary of sample sizes: 800, 800, 800, 800, 800 \n",
      "Resampling results across tuning parameters:\n",
      "\n",
      "  mtry  ROC        Sens       Spec     \n",
      "   5    0.7686071  0.3766667  0.9085714\n",
      "  10    0.7673929  0.4333333  0.8957143\n",
      "  15    0.7598690  0.4466667  0.8771429\n",
      "\n",
      "ROC was used to select the optimal model using the largest value.\n",
      "The final value used for the model was mtry = 5.\n"
     ]
    }
   ],
   "source": [
    "weights = ifelse(credit$bad_credit == 'bad', 0.9, 0.1)\n",
    "\n",
    "fitControl <- trainControl(method = \"cv\",\n",
    "                           number = 5,\n",
    "                           returnResamp=\"all\",\n",
    "                           savePredictions = TRUE,\n",
    "                           classProbs = TRUE,\n",
    "                           summaryFunction = twoClassSummary)\n",
    "paramGrid <- expand.grid(mtry = c(5, 10, 15))\n",
    "\n",
    "set.seed(1234)\n",
    "rf_fit_inside_tw <- train(bad_credit ~ ., \n",
    "                          data = credit,  \n",
    "                          method = \"rf\", # Random forest model \n",
    "                          trControl = fitControl, \n",
    "                          tuneGrid = paramGrid, \n",
    "                          weights = weights, \n",
    "                          metric=\"ROC\")\n",
    "print(rf_fit_inside_tw)"
   ]
  },
  {
   "cell_type": "markdown",
   "metadata": {},
   "source": [
    "The grid of hyperpameters searched by the Caret package is only `mtry`. The printed tables shows the values of the metrics as a function of the parameters in the search grid. Sens is short for sensitivity which is the same as global recall and Spec is specificity which is the true negative rate $= \\frac{TN}{TN + FP}$\n",
    "\n",
    "The hyperparameter optimization can also be performed using Recall as a metric. The code in the cell below uses the `prSummary` function for the `summaryFunction` argument for `trainControl` and sets the `metric` as `Recall`. \n",
    "\n",
    "Execute this call and examine the results. Then, answer **Question 3** on the course page."
   ]
  },
  {
   "cell_type": "code",
   "execution_count": 16,
   "metadata": {},
   "outputs": [
    {
     "name": "stdout",
     "output_type": "stream",
     "text": [
      "Random Forest \n",
      "\n",
      "1000 samples\n",
      "  15 predictor\n",
      "   2 classes: 'bad', 'good' \n",
      "\n",
      "No pre-processing\n",
      "Resampling: Cross-Validated (5 fold) \n",
      "Summary of sample sizes: 800, 800, 800, 800, 800 \n",
      "Resampling results across tuning parameters:\n",
      "\n",
      "  mtry  AUC        Precision  Recall     F        \n",
      "   5    0.5883435  0.6383347  0.3766667  0.4718287\n",
      "  15    0.5856709  0.6119553  0.4300000  0.5040191\n",
      "  25    0.5848342  0.5974912  0.4400000  0.5061834\n",
      "\n",
      "Recall was used to select the optimal model using the largest value.\n",
      "The final value used for the model was mtry = 25.\n"
     ]
    }
   ],
   "source": [
    "fitControl <- trainControl(method = \"cv\",\n",
    "                           number = 5,\n",
    "                           returnResamp=\"all\",\n",
    "                           savePredictions = TRUE,\n",
    "                           classProbs = TRUE,\n",
    "                           summaryFunction = prSummary)\n",
    "paramGrid <- expand.grid(mtry = c(5, 15, 25))\n",
    "\n",
    "set.seed(1234)\n",
    "rf_fit_inside_pr <- train(bad_credit ~ ., \n",
    "                          data = credit,  \n",
    "                          method = \"rf\", # Random forest model \n",
    "                          trControl = fitControl, \n",
    "                          tuneGrid = paramGrid, \n",
    "                          weights = weights, \n",
    "                          metric=\"Recall\")\n",
    "print(rf_fit_inside_pr)"
   ]
  },
  {
   "cell_type": "markdown",
   "metadata": {},
   "source": [
    "Given the problem, these results seem reasonable. \n",
    "\n",
    "The question now is, given the optimal hyperparameters, which features are the most important? The code in the cell below computes and displays feature importance using the Caret `varImp` function. Execute this code and examine the results. "
   ]
  },
  {
   "cell_type": "code",
   "execution_count": 17,
   "metadata": {},
   "outputs": [
    {
     "name": "stdout",
     "output_type": "stream",
     "text": [
      "rf variable importance\n",
      "\n",
      "  only 20 most important variables shown (out of 31)\n",
      "\n",
      "                                                      Overall\n",
      "loan_amount                                           100.000\n",
      "age_yrs                                                65.209\n",
      "loan_duration_mo                                       59.140\n",
      "checking_account_statusnone                            51.233\n",
      "time_in_residence                                      22.905\n",
      "payment_pcnt_income                                    21.203\n",
      "savings_account_balanceunknown/none                    11.248\n",
      "other_credit_outstandingnone                           11.106\n",
      "number_loans                                            8.842\n",
      "propertyreal estate                                     8.624\n",
      "credit_historycritical account - other non-bank loans   8.595\n",
      "checking_account_status0 - 200 DM                       8.285\n",
      "telephoneyes                                            7.605\n",
      "propertycar or other                                    7.401\n",
      "propertyunknown-none                                    7.241\n",
      "time_employed_yrsunemployed                             6.920\n",
      "time_employed_yrs1 - 4 years                            6.577\n",
      "job_categoryskilled                                     5.826\n",
      "time_employed_yrs4 - 7 years                            5.787\n",
      "time_employed_yrs>= 7 years                             5.747\n"
     ]
    },
    {
     "data": {},
     "metadata": {},
     "output_type": "display_data"
    },
    {
     "data": {
      "image/png": "[encoded data removed]",
      "text/plain": [
       "plot without title"
      ]
     },
     "metadata": {},
     "output_type": "display_data"
    }
   ],
   "source": [
    "options(repr.plot.width=8, repr.plot.height=6)\n",
    "var_imp = varImp(rf_fit_inside_pr)\n",
    "print(var_imp)\n",
    "plot(var_imp)"
   ]
  },
  {
   "cell_type": "markdown",
   "metadata": {},
   "source": [
    "In is clear that some of the features are not important to model performance. Execute the code in the cell below to prune the feature set:"
   ]
  },
  {
   "cell_type": "code",
   "execution_count": 18,
   "metadata": {},
   "outputs": [],
   "source": [
    "credit_reduced = credit[,c('loan_amount', 'age_yrs', 'loan_duration_mo', 'checking_account_status', 'time_in_residence',\n",
    "                          'payment_pcnt_income', 'savings_account_balance', 'other_credit_outstanding', \n",
    "                          'credit_history', 'time_employed_yrs', 'property', 'number_loans', 'telephone',\n",
    "                          'bad_credit')]"
   ]
  },
  {
   "cell_type": "markdown",
   "metadata": {},
   "source": [
    "You will now run the inside loop of the CV to test the reduced feature set. Execute the code in the cell below to perform the cross validation grid search using the reduced feature set: "
   ]
  },
  {
   "cell_type": "code",
   "execution_count": 19,
   "metadata": {},
   "outputs": [
    {
     "name": "stdout",
     "output_type": "stream",
     "text": [
      "Random Forest \n",
      "\n",
      "1000 samples\n",
      "  13 predictor\n",
      "   2 classes: 'bad', 'good' \n",
      "\n",
      "No pre-processing\n",
      "Resampling: Cross-Validated (5 fold) \n",
      "Summary of sample sizes: 800, 800, 800, 800, 800 \n",
      "Resampling results across tuning parameters:\n",
      "\n",
      "  mtry  AUC        Precision  Recall     F        \n",
      "   5    0.5856986  0.6447061  0.3866667  0.4833338\n",
      "  15    0.5769071  0.6198419  0.4166667  0.4972113\n",
      "  25    0.5842891  0.6292784  0.4466667  0.5218418\n",
      "\n",
      "Recall was used to select the optimal model using the largest value.\n",
      "The final value used for the model was mtry = 25.\n"
     ]
    }
   ],
   "source": [
    "set.seed(3344)\n",
    "rf_fit_inside_pr <- train(bad_credit ~ ., \n",
    "                          data = credit_reduced,  \n",
    "                          method = \"rf\", # Random forest model \n",
    "                          trControl = fitControl, \n",
    "                          tuneGrid = paramGrid, \n",
    "                          weights = weights, \n",
    "                          metric=\"Recall\")\n",
    "print(rf_fit_inside_pr)"
   ]
  },
  {
   "cell_type": "markdown",
   "metadata": {},
   "source": [
    "The results of the cross validation grid search with the reduced feature are slightly lower than before. However, this difference is unlikely to be significant. The optimal value of `mtry` is still 25. Evidentially, pruning these features was the correct step. This process can be continued, but will not be in this lab in the interest of reducing length. \n",
    "\n",
    "To verify that the model will generalize well it is time to perform the outside CV loop. The code in the cell below defines a parameter grid with just the optimal hyperparameter value. The CV then repeatedly fits the model with this single hyperparameter. \n",
    "\n",
    "Execute this code, examine the result, and answer **Question 4** on the course page."
   ]
  },
  {
   "cell_type": "code",
   "execution_count": 20,
   "metadata": {},
   "outputs": [
    {
     "data": {
      "text/html": [
       "<table>\n",
       "<thead><tr><th scope=col>AUC</th><th scope=col>Precision</th><th scope=col>Recall</th><th scope=col>F</th><th scope=col>mtry</th><th scope=col>Resample</th></tr></thead>\n",
       "<tbody>\n",
       "\t<tr><td>0.593</td><td>0.574</td><td>0.450</td><td>0.505</td><td>25   </td><td>Fold1</td></tr>\n",
       "\t<tr><td>0.627</td><td>0.592</td><td>0.483</td><td>0.532</td><td>25   </td><td>Fold2</td></tr>\n",
       "\t<tr><td>0.577</td><td>0.634</td><td>0.433</td><td>0.515</td><td>25   </td><td>Fold3</td></tr>\n",
       "\t<tr><td>0.628</td><td>0.733</td><td>0.367</td><td>0.489</td><td>25   </td><td>Fold4</td></tr>\n",
       "\t<tr><td>0.513</td><td>0.566</td><td>0.500</td><td>0.531</td><td>25   </td><td>Fold5</td></tr>\n",
       "\t<tr><td>0.588</td><td>0.620</td><td>0.447</td><td>0.514</td><td>25   </td><td>Mean </td></tr>\n",
       "\t<tr><td>0.047</td><td>0.069</td><td>0.052</td><td>0.018</td><td>25   </td><td>STD  </td></tr>\n",
       "</tbody>\n",
       "</table>\n"
      ],
      "text/latex": [
       "\\begin{tabular}{r|llllll}\n",
       " AUC & Precision & Recall & F & mtry & Resample\\\\\n",
       "\\hline\n",
       "\t 0.593 & 0.574 & 0.450 & 0.505 & 25    & Fold1\\\\\n",
       "\t 0.627 & 0.592 & 0.483 & 0.532 & 25    & Fold2\\\\\n",
       "\t 0.577 & 0.634 & 0.433 & 0.515 & 25    & Fold3\\\\\n",
       "\t 0.628 & 0.733 & 0.367 & 0.489 & 25    & Fold4\\\\\n",
       "\t 0.513 & 0.566 & 0.500 & 0.531 & 25    & Fold5\\\\\n",
       "\t 0.588 & 0.620 & 0.447 & 0.514 & 25    & Mean \\\\\n",
       "\t 0.047 & 0.069 & 0.052 & 0.018 & 25    & STD  \\\\\n",
       "\\end{tabular}\n"
      ],
      "text/markdown": [
       "\n",
       "AUC | Precision | Recall | F | mtry | Resample | \n",
       "|---|---|---|---|---|---|---|\n",
       "| 0.593 | 0.574 | 0.450 | 0.505 | 25    | Fold1 | \n",
       "| 0.627 | 0.592 | 0.483 | 0.532 | 25    | Fold2 | \n",
       "| 0.577 | 0.634 | 0.433 | 0.515 | 25    | Fold3 | \n",
       "| 0.628 | 0.733 | 0.367 | 0.489 | 25    | Fold4 | \n",
       "| 0.513 | 0.566 | 0.500 | 0.531 | 25    | Fold5 | \n",
       "| 0.588 | 0.620 | 0.447 | 0.514 | 25    | Mean  | \n",
       "| 0.047 | 0.069 | 0.052 | 0.018 | 25    | STD   | \n",
       "\n",
       "\n"
      ],
      "text/plain": [
       "  AUC   Precision Recall F     mtry Resample\n",
       "1 0.593 0.574     0.450  0.505 25   Fold1   \n",
       "2 0.627 0.592     0.483  0.532 25   Fold2   \n",
       "3 0.577 0.634     0.433  0.515 25   Fold3   \n",
       "4 0.628 0.733     0.367  0.489 25   Fold4   \n",
       "5 0.513 0.566     0.500  0.531 25   Fold5   \n",
       "6 0.588 0.620     0.447  0.514 25   Mean    \n",
       "7 0.047 0.069     0.052  0.018 25   STD     "
      ]
     },
     "metadata": {},
     "output_type": "display_data"
    }
   ],
   "source": [
    "## Set the hyperparameter grid to the optimal values from the inside loop\n",
    "paramGrid <- expand.grid(mtry = c(rf_fit_inside_pr$finalModel$mtry))\n",
    "\n",
    "set.seed(5678)\n",
    "rf_fit_outside_pr <- train(bad_credit ~ ., \n",
    "                          data = credit_reduced,  \n",
    "                          method = \"rf\", # Random forest model \n",
    "                          trControl = fitControl, \n",
    "                          tuneGrid = paramGrid, \n",
    "                          weights = weights,\n",
    "                          metric = \"Recall\")\n",
    "\n",
    "print_metrics = function(mod){\n",
    "    means = c(apply(mod$resample[,1:4], 2, mean), mtry = mod$resample[1,5], Resample = 'Mean')\n",
    "    stds = c(apply(mod$resample[,1:4], 2, sd), mtry = mod$resample[1,5], Resample = 'STD')\n",
    "    out = rbind(mod$resample, means, stds)\n",
    "    out[,1:4] = lapply(out[,1:4], function(x) round(as.numeric(x), 3))\n",
    "    out\n",
    "}\n",
    "print_metrics(rf_fit_outside_pr)"
   ]
  },
  {
   "cell_type": "markdown",
   "metadata": {},
   "source": [
    "Examine these results. Notice that the standard deviation of the mean of the AUC are nearly an order of magnitude smaller than the mean. This indicates that this model is likely to generalize well. \n",
    "\n",
    "***\n",
    "**Note:** The predict method can be used with this optimal model to classify unknown cases.\n",
    "***"
   ]
  },
  {
   "cell_type": "markdown",
   "metadata": {},
   "source": [
    "## Summary\n",
    "\n",
    "In this lab you have accomplished the following:\n",
    "1. Used a random forest model to classify the cases of the iris data. A model with more trees had marginally lower error rates, but likely not significantly different.\n",
    "2. Used 5 fold to find estimated optimal hyperparameters for a random forest model to classify credit risk cases. This process is the inner loop of a nested cross validation process. \n",
    "3. Applied feature importance was used for feature selection with the iris data. The model created and evaluated with the reduced feature set had essentially the same performance as the model with more features.  \n",
    "4. Performed the outer loop of nested cross validation with a 5 fold CV to confirm that the model will likely generalize well. "
   ]
  },
  {
   "cell_type": "code",
   "execution_count": null,
   "metadata": {},
   "outputs": [],
   "source": []
  }
 ],
 "metadata": {
  "kernelspec": {
   "display_name": "R",
   "language": "R",
   "name": "ir"
  },
  "language_info": {
   "codemirror_mode": "r",
   "file_extension": ".r",
   "mimetype": "text/x-r-source",
   "name": "R",
   "pygments_lexer": "r",
   "version": "3.5.1"
  }
 },
 "nbformat": 4,
 "nbformat_minor": 2
}
